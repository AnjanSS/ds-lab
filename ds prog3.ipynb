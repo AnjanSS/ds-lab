{
 "cells": [
  {
   "cell_type": "code",
   "execution_count": 1,
   "id": "9f35fa11",
   "metadata": {},
   "outputs": [],
   "source": [
    "import pandas as pd\n",
    "import numpy as np"
   ]
  },
  {
   "cell_type": "code",
   "execution_count": 9,
   "id": "ec9794f7",
   "metadata": {},
   "outputs": [
    {
     "name": "stdout",
     "output_type": "stream",
     "text": [
      " Volume in drive C has no label.\n",
      " Volume Serial Number is 4A30-9DCC\n",
      "\n",
      " Directory of C:\\Users\\CSD 40\\Desktop\\aiml\n",
      "\n",
      "30-05-2024  12:03         2,964,500 BL-Flickr-Images-Book.csv\n",
      "               1 File(s)      2,964,500 bytes\n",
      "               0 Dir(s)  40,621,019,136 bytes free\n"
     ]
    }
   ],
   "source": [
    "!dir BL-Flickr-Images-Book.csv"
   ]
  },
  {
   "cell_type": "code",
   "execution_count": 2,
   "id": "dfab8d4e",
   "metadata": {},
   "outputs": [],
   "source": [
    "books_df = pd.read_csv(\"BL-Flickr-Images-Book.csv\")"
   ]
  },
  {
   "cell_type": "code",
   "execution_count": 11,
   "id": "c418535d",
   "metadata": {},
   "outputs": [
    {
     "data": {
      "text/plain": [
       "(8287, 6)"
      ]
     },
     "execution_count": 11,
     "metadata": {},
     "output_type": "execute_result"
    }
   ],
   "source": [
    "books_df.shape"
   ]
  },
  {
   "cell_type": "code",
   "execution_count": 12,
   "id": "341856b1",
   "metadata": {},
   "outputs": [
    {
     "name": "stdout",
     "output_type": "stream",
     "text": [
      "<class 'pandas.core.frame.DataFrame'>\n",
      "Index: 8287 entries, 206 to 4160339\n",
      "Data columns (total 6 columns):\n",
      " #   Column                Non-Null Count  Dtype  \n",
      "---  ------                --------------  -----  \n",
      " 0   Place of Publication  8287 non-null   object \n",
      " 1   Date of Publication   7316 non-null   float64\n",
      " 2   Publisher             4092 non-null   object \n",
      " 3   Title                 8287 non-null   object \n",
      " 4   Author                6509 non-null   object \n",
      " 5   Flickr URL            8287 non-null   object \n",
      "dtypes: float64(1), object(5)\n",
      "memory usage: 453.2+ KB\n"
     ]
    }
   ],
   "source": [
    "books_df.info()"
   ]
  },
  {
   "cell_type": "code",
   "execution_count": 3,
   "id": "56077f4f",
   "metadata": {},
   "outputs": [
    {
     "name": "stdout",
     "output_type": "stream",
     "text": [
      "Original DataFrame:\n",
      "   Identifier             Edition Statement      Place of Publication  \\\n",
      "0         206                           NaN                    London   \n",
      "1         216                           NaN  London; Virtue & Yorston   \n",
      "2         218                           NaN                    London   \n",
      "3         472                           NaN                    London   \n",
      "4         480  A new edition, revised, etc.                    London   \n",
      "\n",
      "  Date of Publication              Publisher  \\\n",
      "0         1879 [1878]       S. Tinsley & Co.   \n",
      "1                1868           Virtue & Co.   \n",
      "2                1869  Bradbury, Evans & Co.   \n",
      "3                1851          James Darling   \n",
      "4                1857   Wertheim & Macintosh   \n",
      "\n",
      "                                               Title     Author  \\\n",
      "0                  Walter Forbes. [A novel.] By A. A      A. A.   \n",
      "1  All for Greed. [A novel. The dedication signed...  A., A. A.   \n",
      "2  Love the Avenger. By the author of “All for Gr...  A., A. A.   \n",
      "3  Welsh Sketches, chiefly ecclesiastical, to the...  A., E. S.   \n",
      "4  [The World in which I live, and my place in it...  A., E. S.   \n",
      "\n",
      "                                   Contributors  Corporate Author  \\\n",
      "0                               FORBES, Walter.               NaN   \n",
      "1  BLAZE DE BURY, Marie Pauline Rose - Baroness               NaN   \n",
      "2  BLAZE DE BURY, Marie Pauline Rose - Baroness               NaN   \n",
      "3                   Appleyard, Ernest Silvanus.               NaN   \n",
      "4                           BROOME, John Henry.               NaN   \n",
      "\n",
      "   Corporate Contributors Former owner  Engraver Issuance type  \\\n",
      "0                     NaN          NaN       NaN   monographic   \n",
      "1                     NaN          NaN       NaN   monographic   \n",
      "2                     NaN          NaN       NaN   monographic   \n",
      "3                     NaN          NaN       NaN   monographic   \n",
      "4                     NaN          NaN       NaN   monographic   \n",
      "\n",
      "                                          Flickr URL  \\\n",
      "0  http://www.flickr.com/photos/britishlibrary/ta...   \n",
      "1  http://www.flickr.com/photos/britishlibrary/ta...   \n",
      "2  http://www.flickr.com/photos/britishlibrary/ta...   \n",
      "3  http://www.flickr.com/photos/britishlibrary/ta...   \n",
      "4  http://www.flickr.com/photos/britishlibrary/ta...   \n",
      "\n",
      "                            Shelfmarks  \n",
      "0    British Library HMNTS 12641.b.30.  \n",
      "1    British Library HMNTS 12626.cc.2.  \n",
      "2    British Library HMNTS 12625.dd.1.  \n",
      "3  British Library HMNTS 10369.bbb.15.  \n",
      "4     British Library HMNTS 9007.d.28.  \n"
     ]
    }
   ],
   "source": [
    "print(\"Original DataFrame:\")\n",
    "print(books_df.head())"
   ]
  },
  {
   "cell_type": "code",
   "execution_count": 4,
   "id": "db3c2dc1",
   "metadata": {},
   "outputs": [],
   "source": [
    "irrelevant_columns = ['Edition Statement', 'Corporate Author', 'Corporate Contributors', 'Former owner',\n",
    "'Engraver', 'Contributors', 'Issuance type', 'Shelfmarks']\n",
    "books_df.drop(columns=irrelevant_columns, inplace=True)"
   ]
  },
  {
   "cell_type": "code",
   "execution_count": 5,
   "id": "37cdcc83",
   "metadata": {},
   "outputs": [],
   "source": [
    "books_df.set_index('Identifier', inplace=True)"
   ]
  },
  {
   "cell_type": "code",
   "execution_count": 6,
   "id": "1376df4d",
   "metadata": {},
   "outputs": [],
   "source": [
    "books_df['Date of Publication'] = books_df['Date of Publication'].str.extract(r'^(\\d{4})', expand=False)"
   ]
  },
  {
   "cell_type": "code",
   "execution_count": 7,
   "id": "4cff60d3",
   "metadata": {},
   "outputs": [],
   "source": [
    "books_df['Date of Publication'] = pd.to_numeric(books_df['Date of Publication'], errors='coerce')"
   ]
  },
  {
   "cell_type": "code",
   "execution_count": 8,
   "id": "32d86aa8",
   "metadata": {},
   "outputs": [
    {
     "name": "stdout",
     "output_type": "stream",
     "text": [
      "\n",
      "Cleaned DataFrame:\n",
      "                Place of Publication  Date of Publication  \\\n",
      "Identifier                                                  \n",
      "206                           London               1879.0   \n",
      "216         London; Virtue & Yorston               1868.0   \n",
      "218                           London               1869.0   \n",
      "472                           London               1851.0   \n",
      "480                           London               1857.0   \n",
      "\n",
      "                        Publisher  \\\n",
      "Identifier                          \n",
      "206              S. Tinsley & Co.   \n",
      "216                  Virtue & Co.   \n",
      "218         Bradbury, Evans & Co.   \n",
      "472                 James Darling   \n",
      "480          Wertheim & Macintosh   \n",
      "\n",
      "                                                        Title     Author  \\\n",
      "Identifier                                                                 \n",
      "206                         Walter Forbes. [A novel.] By A. A      A. A.   \n",
      "216         All for Greed. [A novel. The dedication signed...  A., A. A.   \n",
      "218         Love the Avenger. By the author of “All for Gr...  A., A. A.   \n",
      "472         Welsh Sketches, chiefly ecclesiastical, to the...  A., E. S.   \n",
      "480         [The World in which I live, and my place in it...  A., E. S.   \n",
      "\n",
      "                                                   Flickr URL  \n",
      "Identifier                                                     \n",
      "206         http://www.flickr.com/photos/britishlibrary/ta...  \n",
      "216         http://www.flickr.com/photos/britishlibrary/ta...  \n",
      "218         http://www.flickr.com/photos/britishlibrary/ta...  \n",
      "472         http://www.flickr.com/photos/britishlibrary/ta...  \n",
      "480         http://www.flickr.com/photos/britishlibrary/ta...  \n"
     ]
    }
   ],
   "source": [
    "print(\"\\nCleaned DataFrame:\")\n",
    "print(books_df.head())"
   ]
  },
  {
   "cell_type": "code",
   "execution_count": null,
   "id": "c5b88d61",
   "metadata": {},
   "outputs": [],
   "source": []
  }
 ],
 "metadata": {
  "kernelspec": {
   "display_name": "Python 3 (ipykernel)",
   "language": "python",
   "name": "python3"
  },
  "language_info": {
   "codemirror_mode": {
    "name": "ipython",
    "version": 3
   },
   "file_extension": ".py",
   "mimetype": "text/x-python",
   "name": "python",
   "nbconvert_exporter": "python",
   "pygments_lexer": "ipython3",
   "version": "3.11.3"
  }
 },
 "nbformat": 4,
 "nbformat_minor": 5
}
